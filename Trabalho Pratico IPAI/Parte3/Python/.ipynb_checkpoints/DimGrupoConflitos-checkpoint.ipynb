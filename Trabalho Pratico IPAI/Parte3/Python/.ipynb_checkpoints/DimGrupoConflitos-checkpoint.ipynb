{
 "cells": [
  {
   "cell_type": "code",
   "execution_count": 1,
   "id": "a286b723",
   "metadata": {},
   "outputs": [],
   "source": [
    "import pandas as pd\n",
    "import numpy as np"
   ]
  },
  {
   "cell_type": "code",
   "execution_count": 2,
   "id": "62897f0d",
   "metadata": {},
   "outputs": [],
   "source": [
    "dfponte=pd.DataFrame(columns=['IDConflito','IDGrupoConflito','FatorPeso'])\n",
    "dfconflito=df1=pd.read_csv('DimConflito.csv')\n",
    "dfgrupo=pd.DataFrame(columns=['IDGrupoConflito','GrupoConflitoQuantidade'])"
   ]
  },
  {
   "cell_type": "code",
   "execution_count": null,
   "id": "cca8b104",
   "metadata": {},
   "outputs": [],
   "source": []
  }
 ],
 "metadata": {
  "kernelspec": {
   "display_name": "Python 3",
   "language": "python",
   "name": "python3"
  },
  "language_info": {
   "codemirror_mode": {
    "name": "ipython",
    "version": 3
   },
   "file_extension": ".py",
   "mimetype": "text/x-python",
   "name": "python",
   "nbconvert_exporter": "python",
   "pygments_lexer": "ipython3",
   "version": "3.8.8"
  }
 },
 "nbformat": 4,
 "nbformat_minor": 5
}
