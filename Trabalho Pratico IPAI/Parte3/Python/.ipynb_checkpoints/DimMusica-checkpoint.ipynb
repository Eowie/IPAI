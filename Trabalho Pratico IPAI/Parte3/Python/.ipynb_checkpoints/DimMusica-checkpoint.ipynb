{
 "cells": [
  {
   "cell_type": "code",
   "execution_count": 1,
   "id": "713dc070",
   "metadata": {},
   "outputs": [],
   "source": [
    "import pandas as pd"
   ]
  },
  {
   "cell_type": "code",
   "execution_count": 2,
   "id": "0bf93d74",
   "metadata": {},
   "outputs": [],
   "source": [
    "df = pd.read_excel('Musica.xlsx')"
   ]
  },
  {
   "cell_type": "code",
   "execution_count": 3,
   "id": "17730a5c",
   "metadata": {},
   "outputs": [],
   "source": [
    "dfmusica=pd.DataFrame(columns=['IDMusica','Musica'])"
   ]
  },
  {
   "cell_type": "code",
   "execution_count": 4,
   "id": "ebca7337",
   "metadata": {},
   "outputs": [],
   "source": [
    "dfmusica['Musica']=df['Value.Song']"
   ]
  },
  {
   "cell_type": "code",
   "execution_count": 5,
   "id": "3023f24d",
   "metadata": {},
   "outputs": [],
   "source": [
    "dfmusica['IDMusica']=dfmusica.index+1"
   ]
  },
  {
   "cell_type": "code",
   "execution_count": 6,
   "id": "14570347",
   "metadata": {},
   "outputs": [],
   "source": [
    "dfmusica['Lingua']=df['EnglishNonEnglish']"
   ]
  },
  {
   "cell_type": "code",
   "execution_count": 7,
   "id": "0d4c3d43",
   "metadata": {},
   "outputs": [],
   "source": [
    "dfmusica['Classificacao']=df['Value.Pl.']"
   ]
  },
  {
   "cell_type": "code",
   "execution_count": 8,
   "id": "1a0a0955",
   "metadata": {},
   "outputs": [],
   "source": [
    "dfmusica.fillna('NULL',inplace=True)"
   ]
  },
  {
   "cell_type": "code",
   "execution_count": 9,
   "id": "0feccc5c",
   "metadata": {},
   "outputs": [],
   "source": [
    "dfmusica['OrdemAtuacao']=df['RunningOrder']"
   ]
  },
  {
   "cell_type": "code",
   "execution_count": 10,
   "id": "8d0c899e",
   "metadata": {
    "scrolled": false
   },
   "outputs": [],
   "source": [
    "dfmusica = dfmusica.drop(1644)"
   ]
  },
  {
   "cell_type": "code",
   "execution_count": 11,
   "id": "a879db04",
   "metadata": {},
   "outputs": [],
   "source": [
    "dfmusica.fillna('NULL',inplace=True)"
   ]
  },
  {
   "cell_type": "code",
   "execution_count": 12,
   "id": "84c0ed3f",
   "metadata": {},
   "outputs": [],
   "source": [
    "dfmusica['OrdemAtuacaoNormalizada']=df['Ropercent']"
   ]
  },
  {
   "cell_type": "code",
   "execution_count": 13,
   "id": "6c20db4a",
   "metadata": {},
   "outputs": [],
   "source": [
    "dfmusica['Pontuacao']=df['Value.Sc.']"
   ]
  },
  {
   "cell_type": "code",
   "execution_count": 14,
   "id": "2b9a86e4",
   "metadata": {},
   "outputs": [
    {
     "data": {
      "text/html": [
       "<div>\n",
       "<style scoped>\n",
       "    .dataframe tbody tr th:only-of-type {\n",
       "        vertical-align: middle;\n",
       "    }\n",
       "\n",
       "    .dataframe tbody tr th {\n",
       "        vertical-align: top;\n",
       "    }\n",
       "\n",
       "    .dataframe thead th {\n",
       "        text-align: right;\n",
       "    }\n",
       "</style>\n",
       "<table border=\"1\" class=\"dataframe\">\n",
       "  <thead>\n",
       "    <tr style=\"text-align: right;\">\n",
       "      <th></th>\n",
       "      <th>IDMusica</th>\n",
       "      <th>Musica</th>\n",
       "      <th>Lingua</th>\n",
       "      <th>Classificacao</th>\n",
       "      <th>OrdemAtuacao</th>\n",
       "      <th>OrdemAtuacaoNormalizada</th>\n",
       "      <th>Pontuacao</th>\n",
       "    </tr>\n",
       "  </thead>\n",
       "  <tbody>\n",
       "    <tr>\n",
       "      <th>0</th>\n",
       "      <td>1</td>\n",
       "      <td>De vogels van Holland</td>\n",
       "      <td>NotEnglish</td>\n",
       "      <td>NULL</td>\n",
       "      <td>1</td>\n",
       "      <td>0.071429</td>\n",
       "      <td>NaN</td>\n",
       "    </tr>\n",
       "    <tr>\n",
       "      <th>1</th>\n",
       "      <td>2</td>\n",
       "      <td>Das alte Karussell</td>\n",
       "      <td>NotEnglish</td>\n",
       "      <td>NULL</td>\n",
       "      <td>2</td>\n",
       "      <td>0.142857</td>\n",
       "      <td>NaN</td>\n",
       "    </tr>\n",
       "    <tr>\n",
       "      <th>2</th>\n",
       "      <td>3</td>\n",
       "      <td>Messieurs les noyés de la Seine</td>\n",
       "      <td>NotEnglish</td>\n",
       "      <td>NULL</td>\n",
       "      <td>3</td>\n",
       "      <td>0.214286</td>\n",
       "      <td>NaN</td>\n",
       "    </tr>\n",
       "    <tr>\n",
       "      <th>3</th>\n",
       "      <td>4</td>\n",
       "      <td>Im Wartesaal zum großen Glück</td>\n",
       "      <td>NotEnglish</td>\n",
       "      <td>NULL</td>\n",
       "      <td>4</td>\n",
       "      <td>0.285714</td>\n",
       "      <td>NaN</td>\n",
       "    </tr>\n",
       "    <tr>\n",
       "      <th>4</th>\n",
       "      <td>5</td>\n",
       "      <td>Le temps perdu</td>\n",
       "      <td>NotEnglish</td>\n",
       "      <td>NULL</td>\n",
       "      <td>5</td>\n",
       "      <td>0.357143</td>\n",
       "      <td>NaN</td>\n",
       "    </tr>\n",
       "    <tr>\n",
       "      <th>...</th>\n",
       "      <td>...</td>\n",
       "      <td>...</td>\n",
       "      <td>...</td>\n",
       "      <td>...</td>\n",
       "      <td>...</td>\n",
       "      <td>...</td>\n",
       "      <td>...</td>\n",
       "    </tr>\n",
       "    <tr>\n",
       "      <th>1639</th>\n",
       "      <td>1640</td>\n",
       "      <td>Voices</td>\n",
       "      <td>English</td>\n",
       "      <td>14.0</td>\n",
       "      <td>25</td>\n",
       "      <td>1.041667</td>\n",
       "      <td>109.0</td>\n",
       "    </tr>\n",
       "    <tr>\n",
       "      <th>1640</th>\n",
       "      <td>1641</td>\n",
       "      <td>Tout l'Univers</td>\n",
       "      <td>NotEnglish</td>\n",
       "      <td>3.0</td>\n",
       "      <td>11</td>\n",
       "      <td>0.458333</td>\n",
       "      <td>432.0</td>\n",
       "    </tr>\n",
       "    <tr>\n",
       "      <th>1641</th>\n",
       "      <td>1642</td>\n",
       "      <td>Birth Of A New Age</td>\n",
       "      <td>Mixed</td>\n",
       "      <td>23.0</td>\n",
       "      <td>23</td>\n",
       "      <td>0.958333</td>\n",
       "      <td>11.0</td>\n",
       "    </tr>\n",
       "    <tr>\n",
       "      <th>1642</th>\n",
       "      <td>1643</td>\n",
       "      <td>Shum</td>\n",
       "      <td>NotEnglish</td>\n",
       "      <td>5.0</td>\n",
       "      <td>19</td>\n",
       "      <td>0.791667</td>\n",
       "      <td>364.0</td>\n",
       "    </tr>\n",
       "    <tr>\n",
       "      <th>1643</th>\n",
       "      <td>1644</td>\n",
       "      <td>Embers</td>\n",
       "      <td>English</td>\n",
       "      <td>26.0</td>\n",
       "      <td>9</td>\n",
       "      <td>0.375000</td>\n",
       "      <td>0.0</td>\n",
       "    </tr>\n",
       "  </tbody>\n",
       "</table>\n",
       "<p>1644 rows × 7 columns</p>\n",
       "</div>"
      ],
      "text/plain": [
       "      IDMusica                           Musica      Lingua Classificacao  \\\n",
       "0            1            De vogels van Holland  NotEnglish          NULL   \n",
       "1            2               Das alte Karussell  NotEnglish          NULL   \n",
       "2            3  Messieurs les noyés de la Seine  NotEnglish          NULL   \n",
       "3            4    Im Wartesaal zum großen Glück  NotEnglish          NULL   \n",
       "4            5                   Le temps perdu  NotEnglish          NULL   \n",
       "...        ...                              ...         ...           ...   \n",
       "1639      1640                           Voices     English          14.0   \n",
       "1640      1641                   Tout l'Univers  NotEnglish           3.0   \n",
       "1641      1642               Birth Of A New Age       Mixed          23.0   \n",
       "1642      1643                             Shum  NotEnglish           5.0   \n",
       "1643      1644                           Embers     English          26.0   \n",
       "\n",
       "     OrdemAtuacao  OrdemAtuacaoNormalizada  Pontuacao  \n",
       "0               1                 0.071429        NaN  \n",
       "1               2                 0.142857        NaN  \n",
       "2               3                 0.214286        NaN  \n",
       "3               4                 0.285714        NaN  \n",
       "4               5                 0.357143        NaN  \n",
       "...           ...                      ...        ...  \n",
       "1639           25                 1.041667      109.0  \n",
       "1640           11                 0.458333      432.0  \n",
       "1641           23                 0.958333       11.0  \n",
       "1642           19                 0.791667      364.0  \n",
       "1643            9                 0.375000        0.0  \n",
       "\n",
       "[1644 rows x 7 columns]"
      ]
     },
     "execution_count": 14,
     "metadata": {},
     "output_type": "execute_result"
    }
   ],
   "source": [
    "dfmusica.drop(1645)"
   ]
  },
  {
   "cell_type": "code",
   "execution_count": 17,
   "id": "804a1c56",
   "metadata": {},
   "outputs": [],
   "source": [
    "dfmusica.fillna('NULL',inplace=True)"
   ]
  },
  {
   "cell_type": "code",
   "execution_count": 18,
   "id": "44523d53",
   "metadata": {},
   "outputs": [],
   "source": [
    "dfmusica.to_csv(\"DimMusicaSQL.csv\", index=False)"
   ]
  },
  {
   "cell_type": "code",
   "execution_count": null,
   "id": "ac4657c3",
   "metadata": {},
   "outputs": [],
   "source": []
  }
 ],
 "metadata": {
  "kernelspec": {
   "display_name": "Python 3",
   "language": "python",
   "name": "python3"
  },
  "language_info": {
   "codemirror_mode": {
    "name": "ipython",
    "version": 3
   },
   "file_extension": ".py",
   "mimetype": "text/x-python",
   "name": "python",
   "nbconvert_exporter": "python",
   "pygments_lexer": "ipython3",
   "version": "3.8.8"
  }
 },
 "nbformat": 4,
 "nbformat_minor": 5
}
